{
 "cells": [
  {
   "cell_type": "markdown",
   "metadata": {
    "collapsed": true
   },
   "source": [
    "## Import modules "
   ]
  },
  {
   "cell_type": "code",
   "execution_count": 36,
   "metadata": {},
   "outputs": [
    {
     "name": "stdout",
     "output_type": "stream",
     "text": [
      "Automatically created module for IPython interactive environment\n"
     ]
    }
   ],
   "source": [
    "import pandas as pd\n",
    "import numpy as np\n",
    "\n",
    "from collections import Counter\n",
    "\n",
    "import matplotlib.pyplot as plt\n",
    "import numpy as np\n",
    "\n",
    "from sklearn.datasets import make_classification\n",
    "from sklearn.svm import LinearSVC\n",
    "\n",
    "from imblearn.pipeline import make_pipeline\n",
    "from imblearn.over_sampling import ADASYN\n",
    "from imblearn.over_sampling import (SMOTE, BorderlineSMOTE, SVMSMOTE, SMOTENC,\n",
    "                                    KMeansSMOTE)\n",
    "from imblearn.over_sampling import RandomOverSampler\n",
    "from imblearn.base import BaseSampler\n",
    "from sklearn.model_selection import train_test_split\n",
    "from sklearn import metrics\n",
    "\n",
    "from sklearn.linear_model import LogisticRegression\n",
    "\n",
    "from sklearn.metrics import roc_curve\n",
    "from sklearn.metrics import roc_auc_score\n",
    "\n",
    "from math import sqrt\n",
    "from sklearn.metrics import mean_squared_error\n",
    "\n",
    "from sklearn.metrics import confusion_matrix\n",
    "from sklearn.metrics import classification_report\n",
    "from sklearn.svm import SVC\n",
    "\n",
    "print(__doc__)"
   ]
  },
  {
   "cell_type": "code",
   "execution_count": 37,
   "metadata": {},
   "outputs": [],
   "source": [
    "import statsmodels.api as sm"
   ]
  },
  {
   "cell_type": "markdown",
   "metadata": {},
   "source": [
    "# Data Preparation"
   ]
  },
  {
   "cell_type": "code",
   "execution_count": 38,
   "metadata": {},
   "outputs": [],
   "source": [
    "#infile=r'C:\\On going Research Works\\Safety Project\\Real Time crash Prediction\\Data\\Normal_day_traffic_aug17\\combined Data\\data_aug17_2d_mod.csv'\n",
    "\n",
    "infile1=r'C:\\Graduate Courses\\Fall 2019\\STA 5703\\Course_project\\data_sep17.csv'\n",
    "infile2=r'C:\\Graduate Courses\\Fall 2019\\STA 5703\\Course_project\\data5_sep17.csv'\n",
    "infile3=r'C:\\Graduate Courses\\Fall 2019\\STA 5703\\Course_project\\data_aug17.csv'\n",
    "infile4=r'C:\\Graduate Courses\\Fall 2019\\STA 5703\\Course_project\\data5_aug17.csv'\n",
    "\n",
    "df1=pd.read_csv(infile1,parse_dates=['measurement_start'])\n",
    "df1['Evc']=1\n",
    "\n",
    "df2=pd.read_csv(infile2,parse_dates=['measurement_start'])\n",
    "df2['Evc']=1\n",
    "\n",
    "df3=pd.read_csv(infile3,parse_dates=['measurement_start'])\n",
    "df3['Evc']=0\n",
    "\n",
    "df4=pd.read_csv(infile4,parse_dates=['measurement_start'])\n",
    "df4['Evc']=0\n"
   ]
  },
  {
   "cell_type": "code",
   "execution_count": 39,
   "metadata": {},
   "outputs": [],
   "source": [
    "df=df1.append(df2,ignore_index=True)\n",
    "df=df.append(df3,ignore_index=True)\n",
    "df=df.append(df4,ignore_index=True)"
   ]
  },
  {
   "cell_type": "code",
   "execution_count": 40,
   "metadata": {},
   "outputs": [],
   "source": [
    "df['Standardized Type']=df['Standardized Type'].fillna(0)\n",
    "df['Standardized Type']=df['Standardized Type'].replace({'Collision':1})\n",
    "df['hour']=df['measurement_start'].dt.hour\n",
    "df['day']=df['measurement_start'].dt.weekday\n",
    "df['hour']=df['hour'].replace({0:24})"
   ]
  },
  {
   "cell_type": "code",
   "execution_count": 41,
   "metadata": {},
   "outputs": [],
   "source": [
    "df['cvs_x']=df['std_speed_x']/df['speed_x']\n",
    "df['cvs_y']=df['std_speed_y']/df['speed_y']\n",
    "df['cvs_x1']=df['std_speed_x1']/df['speed_x1']\n",
    "df['cvs_y1']=df['std_speed_y1']/df['speed_y1']"
   ]
  },
  {
   "cell_type": "code",
   "execution_count": 42,
   "metadata": {},
   "outputs": [],
   "source": [
    "df=df.dropna(how='any')"
   ]
  },
  {
   "cell_type": "code",
   "execution_count": 43,
   "metadata": {},
   "outputs": [
    {
     "data": {
      "text/plain": [
       "['zone_id_x',\n",
       " 'measurement_start',\n",
       " 'speed_x',\n",
       " 'volume_x',\n",
       " 'occupancy_x',\n",
       " 'std_speed_x',\n",
       " 'std_volume_x',\n",
       " 'std_occ_x',\n",
       " 'speed_y',\n",
       " 'volume_y',\n",
       " 'occupancy_y',\n",
       " 'std_speed_y',\n",
       " 'std_volume_y',\n",
       " 'std_occ_y',\n",
       " 'speed_x1',\n",
       " 'volume_x1',\n",
       " 'occupancy_x1',\n",
       " 'std_speed_x1',\n",
       " 'std_volume_x1',\n",
       " 'std_occ_x1',\n",
       " 'speed_y1',\n",
       " 'volume_y1',\n",
       " 'occupancy_y1',\n",
       " 'std_speed_y1',\n",
       " 'std_volume_y1',\n",
       " 'std_occ_y1',\n",
       " 'Standardized Type',\n",
       " 'Evc',\n",
       " 'hour',\n",
       " 'day',\n",
       " 'cvs_x',\n",
       " 'cvs_y',\n",
       " 'cvs_x1',\n",
       " 'cvs_y1']"
      ]
     },
     "execution_count": 43,
     "metadata": {},
     "output_type": "execute_result"
    }
   ],
   "source": [
    "df_crash=df.copy()\n",
    "col_name=list(df_crash.columns)\n",
    "col_name"
   ]
  },
  {
   "cell_type": "code",
   "execution_count": 44,
   "metadata": {},
   "outputs": [],
   "source": [
    "col_name=['volume_y','cvs_y1','Evc']"
   ]
  },
  {
   "cell_type": "code",
   "execution_count": 45,
   "metadata": {},
   "outputs": [
    {
     "data": {
      "text/plain": [
       "138"
      ]
     },
     "execution_count": 45,
     "metadata": {},
     "output_type": "execute_result"
    }
   ],
   "source": [
    "df_acc=df_crash[df_crash['Standardized Type']==1]\n",
    "df_acc=df_acc.reset_index(drop=True)\n",
    "len(df_acc)"
   ]
  },
  {
   "cell_type": "code",
   "execution_count": 46,
   "metadata": {},
   "outputs": [],
   "source": [
    "#df_acc=df_crash[(df_crash['Standardized Type']==1) & (df_crash['Evc']==1)]"
   ]
  },
  {
   "cell_type": "code",
   "execution_count": 47,
   "metadata": {},
   "outputs": [
    {
     "data": {
      "text/plain": [
       "138"
      ]
     },
     "execution_count": 47,
     "metadata": {},
     "output_type": "execute_result"
    }
   ],
   "source": [
    "len(df_acc)"
   ]
  },
  {
   "cell_type": "markdown",
   "metadata": {},
   "source": [
    "## Model Development Unbalance Sample"
   ]
  },
  {
   "cell_type": "code",
   "execution_count": 48,
   "metadata": {},
   "outputs": [],
   "source": [
    "x_vals=df_crash.filter(col_name)\n",
    "x_vals['constant']=1\n",
    "y_vals=df_crash['Standardized Type']"
   ]
  },
  {
   "cell_type": "code",
   "execution_count": 49,
   "metadata": {},
   "outputs": [
    {
     "name": "stdout",
     "output_type": "stream",
     "text": [
      "Optimization terminated successfully.\n",
      "         Current function value: 0.002207\n",
      "         Iterations 13\n",
      "                          Results: Logit\n",
      "==================================================================\n",
      "Model:              Logit             Pseudo R-squared: 0.032     \n",
      "Dependent Variable: Standardized Type AIC:              2496.1411 \n",
      "Date:               2019-12-05 17:36  BIC:              2541.1106 \n",
      "No. Observations:   563748            Log-Likelihood:   -1244.1   \n",
      "Df Model:           3                 LL-Null:          -1285.5   \n",
      "Df Residuals:       563744            LLR p-value:      7.7153e-18\n",
      "Converged:          1.0000            Scale:            1.0000    \n",
      "No. Iterations:     13.0000                                       \n",
      "-------------------------------------------------------------------\n",
      "               Coef.   Std.Err.     z      P>|z|    [0.025   0.975]\n",
      "-------------------------------------------------------------------\n",
      "volume_y       0.0049    0.0010    4.8141  0.0000   0.0029   0.0069\n",
      "cvs_y1         0.8459    0.2344    3.6083  0.0003   0.3864   1.3053\n",
      "Evc            0.8397    0.2051    4.0946  0.0000   0.4378   1.2417\n",
      "constant      -9.4934    0.2005  -47.3375  0.0000  -9.8865  -9.1004\n",
      "==================================================================\n",
      "\n"
     ]
    }
   ],
   "source": [
    "import numpy as np\n",
    "\n",
    "#data_features_name=['speed_x','std_speed_x','volume_x','occupancy_x','speed_y','std_speed_y','volume_y','occupancy_y','evc','accident']\n",
    "\n",
    "import statsmodels.api as sm\n",
    "logit_model=sm.Logit(y_vals,x_vals)\n",
    "result=logit_model.fit()\n",
    "print(result.summary2())"
   ]
  },
  {
   "cell_type": "code",
   "execution_count": 50,
   "metadata": {},
   "outputs": [
    {
     "data": {
      "text/plain": [
       "<function len(obj, /)>"
      ]
     },
     "execution_count": 50,
     "metadata": {},
     "output_type": "execute_result"
    }
   ],
   "source": [
    "len"
   ]
  },
  {
   "cell_type": "markdown",
   "metadata": {},
   "source": [
    "## Balance Data"
   ]
  },
  {
   "cell_type": "markdown",
   "metadata": {},
   "source": [
    "### Case-Control : Done in R\n",
    "##### code will be given with paper "
   ]
  },
  {
   "cell_type": "code",
   "execution_count": 51,
   "metadata": {},
   "outputs": [],
   "source": [
    "y=df_crash['Standardized Type']\n",
    "df_crash.drop(['Standardized Type','measurement_start','zone_id_x','hour','day'],1,inplace=True)\n",
    "X=df_crash.values"
   ]
  },
  {
   "cell_type": "markdown",
   "metadata": {},
   "source": [
    "#### Test Train Split"
   ]
  },
  {
   "cell_type": "code",
   "execution_count": 52,
   "metadata": {},
   "outputs": [],
   "source": [
    "X_train, X_test, y_train, y_test = train_test_split( X, y, test_size=0.25, random_state=0)"
   ]
  },
  {
   "cell_type": "markdown",
   "metadata": {},
   "source": [
    "## OverSampling "
   ]
  },
  {
   "cell_type": "markdown",
   "metadata": {},
   "source": [
    "#### SMOTE"
   ]
  },
  {
   "cell_type": "code",
   "execution_count": 53,
   "metadata": {},
   "outputs": [
    {
     "name": "stdout",
     "output_type": "stream",
     "text": [
      "[(0, 422702), (1, 422702)]\n"
     ]
    }
   ],
   "source": [
    "from imblearn.over_sampling import SMOTE, ADASYN\n",
    "X_resampled5, y_resampled5 = SMOTE().fit_resample(X_train, y_train)\n",
    "\n",
    "#use this comment to run the ADASYN\n",
    "#X_resampled5, y_resampled5 = ADASYN().fit_resample(X_train, y_train)\n",
    "\n",
    "print(sorted(Counter(y_resampled5).items()))"
   ]
  },
  {
   "cell_type": "code",
   "execution_count": 54,
   "metadata": {},
   "outputs": [],
   "source": [
    "def Roc_curve (model,mod_name):\n",
    "    # generate a no skill prediction (majority class)\n",
    "    ns_probs = [0 for _ in range(len(y_test))]\n",
    "    # predict probabilities\n",
    "    lr_probs = model.predict_proba(X_test)\n",
    "    # keep probabilities for the positive outcome only\n",
    "    lr_probs = lr_probs[:, 1]\n",
    "    # calculate scores\n",
    "    print(\"Accuracy on training set: {:.3f}\".format(model.score(X_resampled5, y_resampled5)))\n",
    "    print(\"Accuracy on test set: {:.3f}\".format(model.score(X_test, y_test)))\n",
    "    ns_auc = roc_auc_score(y_test, ns_probs)\n",
    "    lr_auc = roc_auc_score(y_test, lr_probs)\n",
    "    # summarize scores\n",
    "    print('No Skill: ROC AUC=%.3f' % (ns_auc))\n",
    "    print('ROC AUC=%.3f' % (lr_auc))\n",
    "    # calculate roc curves\n",
    "    plt.figure()\n",
    "    ns_fpr, ns_tpr, _ = roc_curve(y_test, ns_probs)\n",
    "    lr_fpr, lr_tpr, _ = roc_curve(y_test, lr_probs)\n",
    "    # plot the roc curve for the model\n",
    "    plt.figure(figsize=(10,6))\n",
    "    plt.plot(ns_fpr, ns_tpr, linestyle='--', label='No Skill')\n",
    "    plt.plot(lr_fpr, lr_tpr, marker='.', label=str(mod_name))\n",
    "    # axis labels\n",
    "    plt.xlabel('False Positive Rate')\n",
    "    plt.ylabel('True Positive Rate')\n",
    "    # show the legend\n",
    "    plt.legend()\n",
    "    # show the plot\n",
    "    plt.show()\n",
    "\n",
    "    #RMSE= sqrt(mean_squared_error(y_test, y_pred))\n",
    "    #print(\"r2=\", r2_score(y_test, y_pred))"
   ]
  },
  {
   "cell_type": "code",
   "execution_count": 55,
   "metadata": {},
   "outputs": [
    {
     "data": {
      "text/html": [
       "<div>\n",
       "<style scoped>\n",
       "    .dataframe tbody tr th:only-of-type {\n",
       "        vertical-align: middle;\n",
       "    }\n",
       "\n",
       "    .dataframe tbody tr th {\n",
       "        vertical-align: top;\n",
       "    }\n",
       "\n",
       "    .dataframe thead th {\n",
       "        text-align: right;\n",
       "    }\n",
       "</style>\n",
       "<table border=\"1\" class=\"dataframe\">\n",
       "  <thead>\n",
       "    <tr style=\"text-align: right;\">\n",
       "      <th></th>\n",
       "      <th>speed_x</th>\n",
       "      <th>volume_x</th>\n",
       "      <th>occupancy_x</th>\n",
       "      <th>std_speed_x</th>\n",
       "      <th>std_volume_x</th>\n",
       "      <th>std_occ_x</th>\n",
       "      <th>speed_y</th>\n",
       "      <th>volume_y</th>\n",
       "      <th>occupancy_y</th>\n",
       "      <th>std_speed_y</th>\n",
       "      <th>...</th>\n",
       "      <th>volume_y1</th>\n",
       "      <th>occupancy_y1</th>\n",
       "      <th>std_speed_y1</th>\n",
       "      <th>std_volume_y1</th>\n",
       "      <th>std_occ_y1</th>\n",
       "      <th>Evc</th>\n",
       "      <th>cvs_x</th>\n",
       "      <th>cvs_y</th>\n",
       "      <th>cvs_x1</th>\n",
       "      <th>cvs_y1</th>\n",
       "    </tr>\n",
       "  </thead>\n",
       "  <tbody>\n",
       "    <tr>\n",
       "      <td>0</td>\n",
       "      <td>60.729961</td>\n",
       "      <td>285</td>\n",
       "      <td>5.133333</td>\n",
       "      <td>9.204505</td>\n",
       "      <td>4.690416</td>\n",
       "      <td>1.429841</td>\n",
       "      <td>63.550415</td>\n",
       "      <td>255</td>\n",
       "      <td>4.555556</td>\n",
       "      <td>3.028592</td>\n",
       "      <td>...</td>\n",
       "      <td>287</td>\n",
       "      <td>10.911111</td>\n",
       "      <td>13.347911</td>\n",
       "      <td>4.389381</td>\n",
       "      <td>4.880259</td>\n",
       "      <td>1</td>\n",
       "      <td>0.151564</td>\n",
       "      <td>0.047657</td>\n",
       "      <td>0.042323</td>\n",
       "      <td>0.379286</td>\n",
       "    </tr>\n",
       "    <tr>\n",
       "      <td>1</td>\n",
       "      <td>26.167723</td>\n",
       "      <td>169</td>\n",
       "      <td>7.400000</td>\n",
       "      <td>1.556336</td>\n",
       "      <td>1.533747</td>\n",
       "      <td>1.273665</td>\n",
       "      <td>56.898236</td>\n",
       "      <td>195</td>\n",
       "      <td>4.177778</td>\n",
       "      <td>2.964019</td>\n",
       "      <td>...</td>\n",
       "      <td>202</td>\n",
       "      <td>6.533333</td>\n",
       "      <td>9.805603</td>\n",
       "      <td>3.090693</td>\n",
       "      <td>3.070081</td>\n",
       "      <td>1</td>\n",
       "      <td>0.059475</td>\n",
       "      <td>0.052093</td>\n",
       "      <td>0.034950</td>\n",
       "      <td>0.273914</td>\n",
       "    </tr>\n",
       "    <tr>\n",
       "      <td>2</td>\n",
       "      <td>20.494546</td>\n",
       "      <td>248</td>\n",
       "      <td>21.822222</td>\n",
       "      <td>9.567672</td>\n",
       "      <td>3.681356</td>\n",
       "      <td>9.485885</td>\n",
       "      <td>21.617413</td>\n",
       "      <td>255</td>\n",
       "      <td>15.000000</td>\n",
       "      <td>2.705743</td>\n",
       "      <td>...</td>\n",
       "      <td>202</td>\n",
       "      <td>16.022222</td>\n",
       "      <td>7.881925</td>\n",
       "      <td>3.136574</td>\n",
       "      <td>6.702838</td>\n",
       "      <td>1</td>\n",
       "      <td>0.466840</td>\n",
       "      <td>0.125165</td>\n",
       "      <td>0.159292</td>\n",
       "      <td>0.484058</td>\n",
       "    </tr>\n",
       "    <tr>\n",
       "      <td>3</td>\n",
       "      <td>51.513174</td>\n",
       "      <td>259</td>\n",
       "      <td>5.333333</td>\n",
       "      <td>3.310147</td>\n",
       "      <td>3.473711</td>\n",
       "      <td>1.583647</td>\n",
       "      <td>23.577924</td>\n",
       "      <td>267</td>\n",
       "      <td>15.333333</td>\n",
       "      <td>2.666520</td>\n",
       "      <td>...</td>\n",
       "      <td>198</td>\n",
       "      <td>21.000000</td>\n",
       "      <td>2.800242</td>\n",
       "      <td>2.677952</td>\n",
       "      <td>8.631798</td>\n",
       "      <td>1</td>\n",
       "      <td>0.064258</td>\n",
       "      <td>0.113094</td>\n",
       "      <td>0.073018</td>\n",
       "      <td>0.240163</td>\n",
       "    </tr>\n",
       "    <tr>\n",
       "      <td>4</td>\n",
       "      <td>22.227364</td>\n",
       "      <td>205</td>\n",
       "      <td>29.444444</td>\n",
       "      <td>2.518384</td>\n",
       "      <td>2.968084</td>\n",
       "      <td>7.291729</td>\n",
       "      <td>9.566391</td>\n",
       "      <td>171</td>\n",
       "      <td>17.911111</td>\n",
       "      <td>4.512452</td>\n",
       "      <td>...</td>\n",
       "      <td>239</td>\n",
       "      <td>30.066667</td>\n",
       "      <td>2.574593</td>\n",
       "      <td>5.091543</td>\n",
       "      <td>7.999206</td>\n",
       "      <td>1</td>\n",
       "      <td>0.113301</td>\n",
       "      <td>0.471698</td>\n",
       "      <td>0.276434</td>\n",
       "      <td>0.098161</td>\n",
       "    </tr>\n",
       "  </tbody>\n",
       "</table>\n",
       "<p>5 rows × 29 columns</p>\n",
       "</div>"
      ],
      "text/plain": [
       "     speed_x  volume_x  occupancy_x  std_speed_x  std_volume_x  std_occ_x  \\\n",
       "0  60.729961       285     5.133333     9.204505      4.690416   1.429841   \n",
       "1  26.167723       169     7.400000     1.556336      1.533747   1.273665   \n",
       "2  20.494546       248    21.822222     9.567672      3.681356   9.485885   \n",
       "3  51.513174       259     5.333333     3.310147      3.473711   1.583647   \n",
       "4  22.227364       205    29.444444     2.518384      2.968084   7.291729   \n",
       "\n",
       "     speed_y  volume_y  occupancy_y  std_speed_y  ...  volume_y1  \\\n",
       "0  63.550415       255     4.555556     3.028592  ...        287   \n",
       "1  56.898236       195     4.177778     2.964019  ...        202   \n",
       "2  21.617413       255    15.000000     2.705743  ...        202   \n",
       "3  23.577924       267    15.333333     2.666520  ...        198   \n",
       "4   9.566391       171    17.911111     4.512452  ...        239   \n",
       "\n",
       "   occupancy_y1  std_speed_y1  std_volume_y1  std_occ_y1  Evc     cvs_x  \\\n",
       "0     10.911111     13.347911       4.389381    4.880259    1  0.151564   \n",
       "1      6.533333      9.805603       3.090693    3.070081    1  0.059475   \n",
       "2     16.022222      7.881925       3.136574    6.702838    1  0.466840   \n",
       "3     21.000000      2.800242       2.677952    8.631798    1  0.064258   \n",
       "4     30.066667      2.574593       5.091543    7.999206    1  0.113301   \n",
       "\n",
       "      cvs_y    cvs_x1    cvs_y1  \n",
       "0  0.047657  0.042323  0.379286  \n",
       "1  0.052093  0.034950  0.273914  \n",
       "2  0.125165  0.159292  0.484058  \n",
       "3  0.113094  0.073018  0.240163  \n",
       "4  0.471698  0.276434  0.098161  \n",
       "\n",
       "[5 rows x 29 columns]"
      ]
     },
     "execution_count": 55,
     "metadata": {},
     "output_type": "execute_result"
    }
   ],
   "source": [
    "df_crash.head()"
   ]
  },
  {
   "cell_type": "markdown",
   "metadata": {},
   "source": [
    "### Naive Bayes"
   ]
  },
  {
   "cell_type": "markdown",
   "metadata": {},
   "source": [
    "#### Unblanced Data"
   ]
  },
  {
   "cell_type": "code",
   "execution_count": 56,
   "metadata": {},
   "outputs": [],
   "source": [
    "from sklearn.naive_bayes import GaussianNB\n",
    "classifier = GaussianNB()\n",
    "model=classifier.fit(X_train, y_train)\n",
    "y_nb=model.predict(X_test)"
   ]
  },
  {
   "cell_type": "code",
   "execution_count": 57,
   "metadata": {},
   "outputs": [
    {
     "name": "stdout",
     "output_type": "stream",
     "text": [
      "Accuracy on training set: 0.621\n",
      "Accuracy on test set: 0.933\n",
      "No Skill: ROC AUC=0.500\n",
      "ROC AUC=0.701\n"
     ]
    },
    {
     "data": {
      "text/plain": [
       "<Figure size 432x288 with 0 Axes>"
      ]
     },
     "metadata": {},
     "output_type": "display_data"
    },
    {
     "data": {
      "image/png": "[encoded data removed]",
      "text/plain": [
       "<Figure size 720x432 with 1 Axes>"
      ]
     },
     "metadata": {
      "needs_background": "light"
     },
     "output_type": "display_data"
    },
    {
     "name": "stdout",
     "output_type": "stream",
     "text": [
      "[[131553   9355]\n",
      " [    20      9]]\n",
      "              precision    recall  f1-score   support\n",
      "\n",
      "           0       1.00      0.93      0.97    140908\n",
      "           1       0.00      0.31      0.00        29\n",
      "\n",
      "    accuracy                           0.93    140937\n",
      "   macro avg       0.50      0.62      0.48    140937\n",
      "weighted avg       1.00      0.93      0.97    140937\n",
      "\n"
     ]
    }
   ],
   "source": [
    "Roc_curve(model,'Naive Bayes')\n",
    "print(confusion_matrix(y_test, y_nb))\n",
    "print(classification_report(y_test, y_nb))"
   ]
  },
  {
   "cell_type": "markdown",
   "metadata": {},
   "source": [
    "#### Resampled"
   ]
  },
  {
   "cell_type": "code",
   "execution_count": 58,
   "metadata": {},
   "outputs": [],
   "source": [
    "from sklearn.naive_bayes import GaussianNB\n",
    "classifier = GaussianNB()\n",
    "model=classifier.fit(X_resampled5, y_resampled5)\n",
    "y_nb=model.predict(X_test)"
   ]
  },
  {
   "cell_type": "code",
   "execution_count": 59,
   "metadata": {},
   "outputs": [
    {
     "name": "stdout",
     "output_type": "stream",
     "text": [
      "Accuracy on training set: 0.672\n",
      "Accuracy on test set: 0.904\n",
      "No Skill: ROC AUC=0.500\n",
      "ROC AUC=0.732\n"
     ]
    },
    {
     "data": {
      "text/plain": [
       "<Figure size 432x288 with 0 Axes>"
      ]
     },
     "metadata": {},
     "output_type": "display_data"
    },
    {
     "data": {
      "image/png": "[encoded data removed]",
      "text/plain": [
       "<Figure size 720x432 with 1 Axes>"
      ]
     },
     "metadata": {
      "needs_background": "light"
     },
     "output_type": "display_data"
    },
    {
     "name": "stdout",
     "output_type": "stream",
     "text": [
      "[[127433  13475]\n",
      " [    17     12]]\n",
      "              precision    recall  f1-score   support\n",
      "\n",
      "           0       1.00      0.90      0.95    140908\n",
      "           1       0.00      0.41      0.00        29\n",
      "\n",
      "    accuracy                           0.90    140937\n",
      "   macro avg       0.50      0.66      0.48    140937\n",
      "weighted avg       1.00      0.90      0.95    140937\n",
      "\n"
     ]
    }
   ],
   "source": [
    "Roc_curve(model,'Naive Bayes')\n",
    "print(confusion_matrix(y_test, y_nb))\n",
    "print(classification_report(y_test, y_nb))"
   ]
  },
  {
   "cell_type": "markdown",
   "metadata": {},
   "source": [
    "### KNN classification"
   ]
  },
  {
   "cell_type": "markdown",
   "metadata": {},
   "source": [
    "#### Unblanced Data"
   ]
  },
  {
   "cell_type": "code",
   "execution_count": 60,
   "metadata": {},
   "outputs": [
    {
     "data": {
      "text/plain": [
       "KNeighborsClassifier(algorithm='auto', leaf_size=30, metric='minkowski',\n",
       "                     metric_params=None, n_jobs=None, n_neighbors=250, p=2,\n",
       "                     weights='uniform')"
      ]
     },
     "execution_count": 60,
     "metadata": {},
     "output_type": "execute_result"
    }
   ],
   "source": [
    "from sklearn.neighbors import KNeighborsClassifier\n",
    "knn = KNeighborsClassifier(n_neighbors=250) \n",
    "knn.fit(X_train, y_train)"
   ]
  },
  {
   "cell_type": "code",
   "execution_count": 61,
   "metadata": {},
   "outputs": [
    {
     "name": "stdout",
     "output_type": "stream",
     "text": [
      "Accuracy on training set: 0.672\n",
      "Accuracy on test set: 0.904\n",
      "No Skill: ROC AUC=0.500\n",
      "ROC AUC=0.732\n"
     ]
    },
    {
     "data": {
      "text/plain": [
       "<Figure size 432x288 with 0 Axes>"
      ]
     },
     "metadata": {},
     "output_type": "display_data"
    },
    {
     "data": {
      "image/png": "[encoded data removed]",
      "text/plain": [
       "<Figure size 720x432 with 1 Axes>"
      ]
     },
     "metadata": {
      "needs_background": "light"
     },
     "output_type": "display_data"
    },
    {
     "name": "stdout",
     "output_type": "stream",
     "text": [
      "[[140908      0]\n",
      " [    29      0]]\n",
      "              precision    recall  f1-score   support\n",
      "\n",
      "           0       1.00      1.00      1.00    140908\n",
      "           1       0.00      0.00      0.00        29\n",
      "\n",
      "    accuracy                           1.00    140937\n",
      "   macro avg       0.50      0.50      0.50    140937\n",
      "weighted avg       1.00      1.00      1.00    140937\n",
      "\n"
     ]
    },
    {
     "name": "stderr",
     "output_type": "stream",
     "text": [
      "C:\\Users\\re698843\\AppData\\Local\\conda\\conda\\envs\\statmodel3\\lib\\site-packages\\sklearn\\metrics\\classification.py:1437: UndefinedMetricWarning: Precision and F-score are ill-defined and being set to 0.0 in labels with no predicted samples.\n",
      "  'precision', 'predicted', average, warn_for)\n"
     ]
    }
   ],
   "source": [
    "y_knn = knn.predict(X_test)\n",
    "Roc_curve(model,'KNN')\n",
    "print(confusion_matrix(y_test, y_knn))\n",
    "print(classification_report(y_test, y_knn))"
   ]
  },
  {
   "cell_type": "markdown",
   "metadata": {},
   "source": [
    "#### Resampled"
   ]
  },
  {
   "cell_type": "code",
   "execution_count": 62,
   "metadata": {},
   "outputs": [
    {
     "data": {
      "text/plain": [
       "KNeighborsClassifier(algorithm='auto', leaf_size=30, metric='minkowski',\n",
       "                     metric_params=None, n_jobs=None, n_neighbors=250, p=2,\n",
       "                     weights='uniform')"
      ]
     },
     "execution_count": 62,
     "metadata": {},
     "output_type": "execute_result"
    }
   ],
   "source": [
    "from sklearn.neighbors import KNeighborsClassifier\n",
    "knn = KNeighborsClassifier(n_neighbors=250) \n",
    "knn.fit(X_resampled5, y_resampled5)"
   ]
  },
  {
   "cell_type": "code",
   "execution_count": 63,
   "metadata": {},
   "outputs": [
    {
     "name": "stdout",
     "output_type": "stream",
     "text": [
      "Accuracy on training set: 0.672\n",
      "Accuracy on test set: 0.904\n",
      "No Skill: ROC AUC=0.500\n",
      "ROC AUC=0.732\n"
     ]
    },
    {
     "data": {
      "text/plain": [
       "<Figure size 432x288 with 0 Axes>"
      ]
     },
     "metadata": {},
     "output_type": "display_data"
    },
    {
     "data": {
      "image/png": "[encoded data removed]",
      "text/plain": [
       "<Figure size 720x432 with 1 Axes>"
      ]
     },
     "metadata": {
      "needs_background": "light"
     },
     "output_type": "display_data"
    },
    {
     "name": "stdout",
     "output_type": "stream",
     "text": [
      "[[124822  16086]\n",
      " [    19     10]]\n",
      "              precision    recall  f1-score   support\n",
      "\n",
      "           0       1.00      0.89      0.94    140908\n",
      "           1       0.00      0.34      0.00        29\n",
      "\n",
      "    accuracy                           0.89    140937\n",
      "   macro avg       0.50      0.62      0.47    140937\n",
      "weighted avg       1.00      0.89      0.94    140937\n",
      "\n"
     ]
    }
   ],
   "source": [
    "y_knn = knn.predict(X_test)\n",
    "Roc_curve(model,'KNN')\n",
    "print(confusion_matrix(y_test, y_knn))\n",
    "print(classification_report(y_test, y_knn))"
   ]
  },
  {
   "cell_type": "markdown",
   "metadata": {},
   "source": [
    "### Logistic Regression"
   ]
  },
  {
   "cell_type": "markdown",
   "metadata": {},
   "source": [
    "#### Unbalanced Sample"
   ]
  },
  {
   "cell_type": "code",
   "execution_count": 64,
   "metadata": {},
   "outputs": [
    {
     "name": "stderr",
     "output_type": "stream",
     "text": [
      "C:\\Users\\re698843\\AppData\\Local\\conda\\conda\\envs\\statmodel3\\lib\\site-packages\\sklearn\\linear_model\\logistic.py:432: FutureWarning: Default solver will be changed to 'lbfgs' in 0.22. Specify a solver to silence this warning.\n",
      "  FutureWarning)\n"
     ]
    }
   ],
   "source": [
    "from sklearn.linear_model import LogisticRegression\n",
    "clf = LogisticRegression(random_state=0)\n",
    "model=clf.fit(X_train, y_train)"
   ]
  },
  {
   "cell_type": "code",
   "execution_count": 65,
   "metadata": {},
   "outputs": [
    {
     "name": "stdout",
     "output_type": "stream",
     "text": [
      "Accuracy on training set: 0.500\n",
      "Accuracy on test set: 1.000\n",
      "No Skill: ROC AUC=0.500\n",
      "ROC AUC=0.769\n"
     ]
    },
    {
     "data": {
      "text/plain": [
       "<Figure size 432x288 with 0 Axes>"
      ]
     },
     "metadata": {},
     "output_type": "display_data"
    },
    {
     "data": {
      "image/png": "[encoded data removed]",
      "text/plain": [
       "<Figure size 720x432 with 1 Axes>"
      ]
     },
     "metadata": {
      "needs_background": "light"
     },
     "output_type": "display_data"
    },
    {
     "name": "stdout",
     "output_type": "stream",
     "text": [
      "[[140908      0]\n",
      " [    29      0]]\n",
      "              precision    recall  f1-score   support\n",
      "\n",
      "           0       1.00      1.00      1.00    140908\n",
      "           1       0.00      0.00      0.00        29\n",
      "\n",
      "    accuracy                           1.00    140937\n",
      "   macro avg       0.50      0.50      0.50    140937\n",
      "weighted avg       1.00      1.00      1.00    140937\n",
      "\n"
     ]
    },
    {
     "name": "stderr",
     "output_type": "stream",
     "text": [
      "C:\\Users\\re698843\\AppData\\Local\\conda\\conda\\envs\\statmodel3\\lib\\site-packages\\sklearn\\metrics\\classification.py:1437: UndefinedMetricWarning: Precision and F-score are ill-defined and being set to 0.0 in labels with no predicted samples.\n",
      "  'precision', 'predicted', average, warn_for)\n"
     ]
    }
   ],
   "source": [
    "y_logit = model.predict(X_test)\n",
    "Roc_curve(model,'Logistic Regression')\n",
    "print(confusion_matrix(y_test, y_logit))\n",
    "print(classification_report(y_test, y_logit))"
   ]
  },
  {
   "cell_type": "markdown",
   "metadata": {},
   "source": [
    "#### Resampled"
   ]
  },
  {
   "cell_type": "code",
   "execution_count": 66,
   "metadata": {},
   "outputs": [
    {
     "name": "stderr",
     "output_type": "stream",
     "text": [
      "C:\\Users\\re698843\\AppData\\Local\\conda\\conda\\envs\\statmodel3\\lib\\site-packages\\sklearn\\linear_model\\logistic.py:432: FutureWarning: Default solver will be changed to 'lbfgs' in 0.22. Specify a solver to silence this warning.\n",
      "  FutureWarning)\n"
     ]
    }
   ],
   "source": [
    "from sklearn.linear_model import LogisticRegression\n",
    "clf = LogisticRegression(random_state=0)\n",
    "model=clf.fit(X_resampled5, y_resampled5)"
   ]
  },
  {
   "cell_type": "code",
   "execution_count": 67,
   "metadata": {},
   "outputs": [
    {
     "name": "stdout",
     "output_type": "stream",
     "text": [
      "Accuracy on training set: 0.771\n",
      "Accuracy on test set: 0.820\n",
      "No Skill: ROC AUC=0.500\n",
      "ROC AUC=0.770\n"
     ]
    },
    {
     "data": {
      "text/plain": [
       "<Figure size 432x288 with 0 Axes>"
      ]
     },
     "metadata": {},
     "output_type": "display_data"
    },
    {
     "data": {
      "image/png": "[encoded data removed]",
      "text/plain": [
       "<Figure size 720x432 with 1 Axes>"
      ]
     },
     "metadata": {
      "needs_background": "light"
     },
     "output_type": "display_data"
    },
    {
     "name": "stdout",
     "output_type": "stream",
     "text": [
      "[[115582  25326]\n",
      " [    12     17]]\n",
      "              precision    recall  f1-score   support\n",
      "\n",
      "           0       1.00      0.82      0.90    140908\n",
      "           1       0.00      0.59      0.00        29\n",
      "\n",
      "    accuracy                           0.82    140937\n",
      "   macro avg       0.50      0.70      0.45    140937\n",
      "weighted avg       1.00      0.82      0.90    140937\n",
      "\n"
     ]
    }
   ],
   "source": [
    "y_logit = model.predict(X_test)\n",
    "Roc_curve(model,'Logistic Regression')\n",
    "print(confusion_matrix(y_test, y_logit))\n",
    "print(classification_report(y_test, y_logit))"
   ]
  },
  {
   "cell_type": "markdown",
   "metadata": {},
   "source": [
    "#### LDA"
   ]
  },
  {
   "cell_type": "markdown",
   "metadata": {},
   "source": [
    "#### Ubalance data"
   ]
  },
  {
   "cell_type": "code",
   "execution_count": 68,
   "metadata": {},
   "outputs": [],
   "source": [
    "from sklearn.discriminant_analysis import LinearDiscriminantAnalysis\n",
    "clf = LinearDiscriminantAnalysis(n_components=None, priors=None, shrinkage=None,\n",
    "              solver='svd', store_covariance=False, tol=0.0001)\n",
    "model=clf.fit(X_train, y_train)"
   ]
  },
  {
   "cell_type": "code",
   "execution_count": 69,
   "metadata": {},
   "outputs": [
    {
     "name": "stdout",
     "output_type": "stream",
     "text": [
      "Accuracy on training set: 0.527\n",
      "Accuracy on test set: 0.996\n",
      "No Skill: ROC AUC=0.500\n",
      "ROC AUC=0.762\n"
     ]
    },
    {
     "data": {
      "text/plain": [
       "<Figure size 432x288 with 0 Axes>"
      ]
     },
     "metadata": {},
     "output_type": "display_data"
    },
    {
     "data": {
      "image/png": "[encoded data removed]",
      "text/plain": [
       "<Figure size 720x432 with 1 Axes>"
      ]
     },
     "metadata": {
      "needs_background": "light"
     },
     "output_type": "display_data"
    },
    {
     "name": "stdout",
     "output_type": "stream",
     "text": [
      "[[140405    503]\n",
      " [    29      0]]\n",
      "              precision    recall  f1-score   support\n",
      "\n",
      "           0       1.00      1.00      1.00    140908\n",
      "           1       0.00      0.00      0.00        29\n",
      "\n",
      "    accuracy                           1.00    140937\n",
      "   macro avg       0.50      0.50      0.50    140937\n",
      "weighted avg       1.00      1.00      1.00    140937\n",
      "\n"
     ]
    }
   ],
   "source": [
    "y_lda = model.predict(X_test)\n",
    "Roc_curve(model,'LDA')\n",
    "print(confusion_matrix(y_test, y_lda))\n",
    "print(classification_report(y_test, y_lda))"
   ]
  },
  {
   "cell_type": "markdown",
   "metadata": {},
   "source": [
    "#### Resampled"
   ]
  },
  {
   "cell_type": "code",
   "execution_count": 70,
   "metadata": {},
   "outputs": [],
   "source": [
    "from sklearn.discriminant_analysis import LinearDiscriminantAnalysis\n",
    "clf = LinearDiscriminantAnalysis(n_components=None, priors=None, shrinkage=None,\n",
    "              solver='svd', store_covariance=False, tol=0.0001)\n",
    "model=clf.fit(X_resampled5, y_resampled5)"
   ]
  },
  {
   "cell_type": "code",
   "execution_count": 71,
   "metadata": {},
   "outputs": [
    {
     "name": "stdout",
     "output_type": "stream",
     "text": [
      "Accuracy on training set: 0.764\n",
      "Accuracy on test set: 0.834\n",
      "No Skill: ROC AUC=0.500\n",
      "ROC AUC=0.789\n"
     ]
    },
    {
     "data": {
      "text/plain": [
       "<Figure size 432x288 with 0 Axes>"
      ]
     },
     "metadata": {},
     "output_type": "display_data"
    },
    {
     "data": {
      "image/png": "[encoded data removed]",
      "text/plain": [
       "<Figure size 720x432 with 1 Axes>"
      ]
     },
     "metadata": {
      "needs_background": "light"
     },
     "output_type": "display_data"
    },
    {
     "name": "stdout",
     "output_type": "stream",
     "text": [
      "[[117530  23378]\n",
      " [    13     16]]\n",
      "              precision    recall  f1-score   support\n",
      "\n",
      "           0       1.00      0.83      0.91    140908\n",
      "           1       0.00      0.55      0.00        29\n",
      "\n",
      "    accuracy                           0.83    140937\n",
      "   macro avg       0.50      0.69      0.46    140937\n",
      "weighted avg       1.00      0.83      0.91    140937\n",
      "\n"
     ]
    }
   ],
   "source": [
    "y_lda = model.predict(X_test)\n",
    "Roc_curve(model,'LDA')\n",
    "print(confusion_matrix(y_test, y_lda))\n",
    "print(classification_report(y_test, y_lda))"
   ]
  },
  {
   "cell_type": "markdown",
   "metadata": {},
   "source": [
    "### QDA"
   ]
  },
  {
   "cell_type": "markdown",
   "metadata": {},
   "source": [
    "#### Unblanced Sample"
   ]
  },
  {
   "cell_type": "code",
   "execution_count": 72,
   "metadata": {},
   "outputs": [],
   "source": [
    "from sklearn.discriminant_analysis import QuadraticDiscriminantAnalysis\n",
    "clf = QuadraticDiscriminantAnalysis()\n",
    "model=clf.fit(X_train, y_train)"
   ]
  },
  {
   "cell_type": "code",
   "execution_count": 73,
   "metadata": {},
   "outputs": [
    {
     "name": "stdout",
     "output_type": "stream",
     "text": [
      "Accuracy on training set: 0.638\n",
      "Accuracy on test set: 0.955\n",
      "No Skill: ROC AUC=0.500\n",
      "ROC AUC=0.783\n"
     ]
    },
    {
     "data": {
      "text/plain": [
       "<Figure size 432x288 with 0 Axes>"
      ]
     },
     "metadata": {},
     "output_type": "display_data"
    },
    {
     "data": {
      "image/png": "[encoded data removed]",
      "text/plain": [
       "<Figure size 720x432 with 1 Axes>"
      ]
     },
     "metadata": {
      "needs_background": "light"
     },
     "output_type": "display_data"
    },
    {
     "name": "stdout",
     "output_type": "stream",
     "text": [
      "[[134596   6312]\n",
      " [    21      8]]\n",
      "              precision    recall  f1-score   support\n",
      "\n",
      "           0       1.00      0.96      0.98    140908\n",
      "           1       0.00      0.28      0.00        29\n",
      "\n",
      "    accuracy                           0.96    140937\n",
      "   macro avg       0.50      0.62      0.49    140937\n",
      "weighted avg       1.00      0.96      0.98    140937\n",
      "\n"
     ]
    }
   ],
   "source": [
    "y_qda = model.predict(X_test)\n",
    "Roc_curve(model,'QDA')\n",
    "print(confusion_matrix(y_test, y_qda))\n",
    "print(classification_report(y_test, y_qda))"
   ]
  },
  {
   "cell_type": "markdown",
   "metadata": {},
   "source": [
    "#### Resampled"
   ]
  },
  {
   "cell_type": "code",
   "execution_count": 74,
   "metadata": {},
   "outputs": [],
   "source": [
    "from sklearn.discriminant_analysis import QuadraticDiscriminantAnalysis\n",
    "clf = QuadraticDiscriminantAnalysis()\n",
    "model=clf.fit(X_resampled5, y_resampled5)"
   ]
  },
  {
   "cell_type": "code",
   "execution_count": 75,
   "metadata": {},
   "outputs": [
    {
     "name": "stdout",
     "output_type": "stream",
     "text": [
      "Accuracy on training set: 0.795\n",
      "Accuracy on test set: 0.798\n",
      "No Skill: ROC AUC=0.500\n",
      "ROC AUC=0.751\n"
     ]
    },
    {
     "data": {
      "text/plain": [
       "<Figure size 432x288 with 0 Axes>"
      ]
     },
     "metadata": {},
     "output_type": "display_data"
    },
    {
     "data": {
      "image/png": "[encoded data removed]",
      "text/plain": [
       "<Figure size 720x432 with 1 Axes>"
      ]
     },
     "metadata": {
      "needs_background": "light"
     },
     "output_type": "display_data"
    },
    {
     "name": "stdout",
     "output_type": "stream",
     "text": [
      "[[112507  28401]\n",
      " [    11     18]]\n",
      "              precision    recall  f1-score   support\n",
      "\n",
      "           0       1.00      0.80      0.89    140908\n",
      "           1       0.00      0.62      0.00        29\n",
      "\n",
      "    accuracy                           0.80    140937\n",
      "   macro avg       0.50      0.71      0.44    140937\n",
      "weighted avg       1.00      0.80      0.89    140937\n",
      "\n"
     ]
    }
   ],
   "source": [
    "y_qda = model.predict(X_test)\n",
    "Roc_curve(model,'QDA')\n",
    "print(confusion_matrix(y_test, y_qda))\n",
    "print(classification_report(y_test, y_qda))"
   ]
  }
 ],
 "metadata": {
  "kernelspec": {
   "display_name": "Python 3",
   "language": "python",
   "name": "python3"
  },
  "language_info": {
   "codemirror_mode": {
    "name": "ipython",
    "version": 3
   },
   "file_extension": ".py",
   "mimetype": "text/x-python",
   "name": "python",
   "nbconvert_exporter": "python",
   "pygments_lexer": "ipython3",
   "version": "3.6.9"
  }
 },
 "nbformat": 4,
 "nbformat_minor": 2
}
